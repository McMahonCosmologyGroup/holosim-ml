{
 "cells": [
  {
   "cell_type": "markdown",
   "metadata": {},
   "source": [
    "# Singular Machine Learning Model for Holography\n",
    "### Grace E. Chesmore and Jeff McMahon - McMahonCosmologyGroup\n",
    "Here we build a machine learning model for fitting one holography measurement, yielding the LAT mirror adjuster offsets. This ML model takes in 1 holography measurement (\"singular\") in the form of far-field beams, then converts to aperture fields. The aperture fields and known adjuster offsets are then used as training sets for the ML model (1000 training sets in total).\n",
    "\n",
    "Prior to using the aperture fields as training sets, the aberrations are subtracted, yielding the pathlength differences due only to the adjuster offsets. The aberration pattern is computed below. "
   ]
  },
  {
   "cell_type": "code",
   "execution_count": null,
   "metadata": {
    "jupyter": {
     "source_hidden": true
    }
   },
   "outputs": [],
   "source": [
    "import numpy as np\n",
    "import sys\n",
    "path_to_holosim_package = \"/home/chesmore/Desktop/Code/holosim_paper/package/holosim-ml\"\n",
    "sys.path.append(path_to_holosim_package)\n",
    "import tele_geo as tg\n",
    "import ap_field as af\n",
    "import ap_fitting as afit\n",
    "import matplotlib\n",
    "import matplotlib.pyplot as plt\n",
    "import matplotlib.font_manager as font_manager\n",
    "font_manager.fontManager.addfont(\n",
    "    \"/home/chesmore/.local/share/fonts/times-new-roman.ttf\"\n",
    ")\n",
    "matplotlib.rcParams[\"font.family\"] = \"Times New Roman\"\n",
    "matplotlib.rcParams[\"font.size\"] = 28\n",
    "plt.rcParams[\"image.cmap\"] = \"magma\"\n",
    "plt.style.use(\"ggplot\")\n",
    "plt.rcParams[\"axes.unicode_minus\"] = False\n",
    "#%matplotlib inline\n",
    "import optics_analyze as oa\n",
    "import sklearn\n",
    "from sklearn.linear_model import LinearRegression\n",
    "import pickle\n",
    "\n",
    "save = 0\n",
    "\n",
    "rx_x = np.array([0])\n",
    "rx_z = np.array([0])\n",
    "el = np.array([0])\n",
    "az = np.array([0])\n",
    "\n",
    "shift_C = [\"y\", oa.sh_z(rx_z[0])]\n",
    "\n",
    "n_adj_m1 = 5 * 77\n",
    "n_adj_m2 = 5 * 69\n",
    "\n",
    "tele_geo = tg.initialize_telescope_geometry()\n",
    "th = np.linspace(-np.pi / 2 - 0.28, -np.pi / 2 + 0.28, tele_geo.N_scan)\n",
    "ph = np.linspace(np.pi / 2 - 0.28, np.pi / 2 + 0.28, tele_geo.N_scan)\n",
    "\n",
    "rx3 = np.array([rx_x[0], 209.09, rx_z[0]])\n",
    "tele_geo = tg.tele_geo_init(rx3[0], rx3[1], rx3[2], el[0], az[0])\n",
    "rxmirror_C = af.ray_mirror_pts(rx3, tele_geo, th, ph)\n",
    "dat_C = afit.take_measurement(\n",
    "    np.zeros(77 * 5), np.zeros(77 * 5), 0, tele_geo, rxmirror_C\n",
    ")\n",
    "dat_C = np.loadtxt(dat_C)\n",
    "x_C, y_C, meas_C, ampl_C, geo = afit.analyze_holography(\n",
    "    dat_C, tele_geo, 0, 1, 0, shift_C\n",
    ")\n",
    "meas_C = np.where(\n",
    "    (abs(ampl_C) / np.max(abs(ampl_C))) >= 0.3, meas_C - np.mean(meas_C), 0\n",
    ")"
   ]
  },
  {
   "cell_type": "markdown",
   "metadata": {},
   "source": [
    "## Reading in the training sets"
   ]
  },
  {
   "cell_type": "code",
   "execution_count": null,
   "metadata": {
    "jupyter": {
     "source_hidden": true
    }
   },
   "outputs": [],
   "source": [
    "adj_tot1 = []\n",
    "phases1 = []\n",
    "\n",
    "iters = 1000\n",
    "\n",
    "for ii in range(iters):\n",
    "\n",
    "    if np.mod(ii + 1, 50) == 0:\n",
    "        print(\"Reading in measurement \" + str(ii + 1) + \"/\" + str(iters))\n",
    "\n",
    "    rx3 = np.array([rx_x[0], 209.09, rx_z[0]])\n",
    "    tele_geo = tg.tele_geo_init(rx3[0], rx3[1], rx3[2], el[0], az[0])\n",
    "    dat_C = np.loadtxt(\n",
    "        \"/data/chesmore/sim_out/rx000/rx_\" + str(rx3) + \"_\" + str(ii + 1) + \".txt\"\n",
    "    )\n",
    "    x_C, y_C, phase_C, ampl_C, geo = afit.analyze_holography(\n",
    "        dat_C, tele_geo, 0, 1, 0, shift_C\n",
    "    )\n",
    "\n",
    "    phase_C = np.where(\n",
    "        (abs(ampl_C) / np.max(abs(ampl_C))) >= 0.3, phase_C - np.mean(phase_C), 0\n",
    "    )\n",
    "    phase_C -= meas_C\n",
    "\n",
    "    adj_m1 = np.loadtxt(\n",
    "        \"/data/chesmore/sim_out/rx000/adj_offsets_m1_\" + str(ii + 1) + \".txt\"\n",
    "    )[\n",
    "        0:n_adj_m1\n",
    "    ]  # mm\n",
    "\n",
    "    adj_m2 = np.loadtxt(\n",
    "        \"/data/chesmore/sim_out/rx000/adj_offsets_m2_\" + str(ii + 1) + \".txt\"\n",
    "    )[\n",
    "        0:n_adj_m2\n",
    "    ]  # mm\n",
    "\n",
    "    phases1.append((phase_C))\n",
    "    adj_tot1.append(np.concatenate((adj_m1, adj_m2)))\n",
    "\n",
    "    if ii == 0:\n",
    "        plt.figure(figsize=(5, 3.5))\n",
    "        plt.title(\"Singular holography measurements\", fontsize=20, x=0.44, y=1.15)\n",
    "        plt.scatter(x_C, y_C, c=1e6 * phase_C / tele_geo.k, vmin=-200, vmax=200)\n",
    "        plt.axis(\"equal\")\n",
    "        plt.xlabel(\"x [m]\")\n",
    "        plt.ylabel(\"y [m]\")\n",
    "        plt.colorbar(label=r\"$\\mu m$\")\n",
    "        plt.show()"
   ]
  },
  {
   "cell_type": "markdown",
   "metadata": {},
   "source": [
    "## Training and saving the ML model"
   ]
  },
  {
   "cell_type": "code",
   "execution_count": null,
   "metadata": {
    "jupyter": {
     "source_hidden": true
    }
   },
   "outputs": [],
   "source": [
    "####### Singular Model ################\n",
    "n_samples = np.shape(phases1)[0]\n",
    "n_features = np.shape(phases1)[1]\n",
    "\n",
    "# Define training datasets\n",
    "X = phases1[0 : int(iters - 1)]\n",
    "y_output = adj_tot1[0 : int(iters - 1)]\n",
    "\n",
    "# Train the linear regression ML model\n",
    "model1 = LinearRegression()  # Define ML algorithm\n",
    "model1.fit(X, y_output)  # Train model with training datasets\n",
    "\n",
    "# Introduce instances where we do not know the answer (holography measurement)\n",
    "Xnew = np.reshape(phases1[int(iters - 1)], (1, n_features))\n",
    "# Make a prediction\n",
    "ynew = model1.predict(Xnew)\n",
    "\n",
    "# Save the model\n",
    "filename_si = \"model_singular1.sav\"\n",
    "pickle.dump(model1, open(filename_si, \"wb\"))"
   ]
  },
  {
   "cell_type": "code",
   "execution_count": null,
   "metadata": {
    "jupyter": {
     "source_hidden": true
    }
   },
   "outputs": [],
   "source": [
    "plt.plot(ynew[0])\n",
    "plt.plot(adj_tot1[int(iters - 1)])\n",
    "plt.xlim(500, 600)"
   ]
  }
 ],
 "metadata": {
  "kernelspec": {
   "display_name": "Python 3",
   "language": "python",
   "name": "python3"
  },
  "language_info": {
   "codemirror_mode": {
    "name": "ipython",
    "version": 3
   },
   "file_extension": ".py",
   "mimetype": "text/x-python",
   "name": "python",
   "nbconvert_exporter": "python",
   "pygments_lexer": "ipython3",
   "version": "3.8.5"
  }
 },
 "nbformat": 4,
 "nbformat_minor": 4
}

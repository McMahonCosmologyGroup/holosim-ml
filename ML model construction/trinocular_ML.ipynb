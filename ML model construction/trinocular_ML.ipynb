{
 "cells": [
  {
   "cell_type": "markdown",
   "metadata": {},
   "source": [
    "# Trinocular Machine Learning Model for Holography\n",
    "### Grace E. Chesmore and Jeff McMahon - McMahonCosmologyLab\n",
    "Here we build a machine learning model for fitting three holography measurements, yielding the LAT mirror adjuster offsets. This ML model takes in three holography measurements (\"trinocular\") in the form of far-field beams, then converts to aperture fields. The aperture fields and known adjuster offsets are then used as training sets for the ML model (1000 training sets in total).\n",
    "\n",
    "Prior to using the aperture fields as training sets, the aberrations are subtracted, yielding the pathlength differences due only to the adjuster offsets. Three aberration patterns are computed below. "
   ]
  },
  {
   "cell_type": "code",
   "execution_count": null,
   "metadata": {
    "jupyter": {
     "source_hidden": true
    }
   },
   "outputs": [],
   "source": [
    "import numpy as np\n",
    "path_to_holosim_package = \"/home/chesmore/Desktop/Code/holosim_paper/package/holosim-ml\"\n",
    "sys.path.append(path_to_holosim_package)\n",
    "import tele_geo as tg\n",
    "import ap_field as af\n",
    "import ap_fitting as afit\n",
    "import optics_analyze as oa\n",
    "\n",
    "# Plotting settings\n",
    "import matplotlib\n",
    "import matplotlib.pyplot as plt\n",
    "import matplotlib.font_manager as font_manager\n",
    "font_manager.fontManager.addfont(\n",
    "    \"/home/chesmore/.local/share/fonts/times-new-roman.ttf\"\n",
    ")\n",
    "matplotlib.rcParams[\"font.family\"] = \"Times New Roman\"\n",
    "matplotlib.rcParams[\"font.size\"] = 28\n",
    "plt.rcParams[\"image.cmap\"] = \"magma\"\n",
    "plt.style.use(\"ggplot\")\n",
    "plt.rcParams[\"axes.unicode_minus\"] = False\n",
    "%matplotlib inline\n",
    "\n",
    "# Machine Learning packages\n",
    "import sklearn\n",
    "from sklearn.linear_model import LinearRegression\n",
    "import pickle\n",
    "\n",
    "save = 0\n",
    "\n",
    "rx_x = np.array([-519.62 * (3 / 2), 519.62 * (3 / 2), 0])\n",
    "rx_z = np.array([-300 * (3 / 2), -300 * (3 / 2), 600 * (3 / 2)])\n",
    "el = np.array([oa.el_offset(rx_z[0]), oa.el_offset(rx_z[1]), oa.el_offset(rx_z[2])])\n",
    "az = np.array([oa.az_offset(rx_x[0]), oa.az_offset(rx_x[1]), oa.az_offset(rx_x[2])])\n",
    "\n",
    "shift_A = [\"xy\", oa.sh_x(rx_x[0]), oa.sh_z(rx_z[0])]\n",
    "shift_B = [\"xy\", oa.sh_x(rx_x[1]), oa.sh_z(rx_z[1])]\n",
    "shift_C = [\"y\", oa.sh_z(rx_z[2])]\n",
    "\n",
    "n_adj_m1 = 5 * 77\n",
    "n_adj_m2 = 5 * 69\n"
   ]
  },
  {
   "cell_type": "code",
   "execution_count": null,
   "metadata": {
    "jupyter": {
     "source_hidden": true
    }
   },
   "outputs": [],
   "source": [
    "### Computing aberrations at three rx positions ###\n",
    "\n",
    "tele_geo = tg.initialize_telescope_geometry()\n",
    "th = np.linspace(-np.pi / 2 - 0.28, -np.pi / 2 + 0.28, tele_geo.N_scan)\n",
    "ph = np.linspace(np.pi / 2 - 0.28, np.pi / 2 + 0.28, tele_geo.N_scan)\n",
    "\n",
    "rx1 = np.array([rx_x[0], 209.09, rx_z[0]])\n",
    "tele_geo = tg.tele_geo_init(rx1[0], rx1[1], rx1[2], el[0], az[0])\n",
    "rxmirror_A = af.ray_mirror_pts(rx1, tele_geo, th, ph)\n",
    "dat_A = afit.take_measurement(\n",
    "    np.zeros(77 * 5), np.zeros(77 * 5), 0, tele_geo, rxmirror_A\n",
    ")\n",
    "dat_A = np.loadtxt(dat_A)\n",
    "x_A, y_A, meas_A, ampl_A, geo = afit.analyze_holography(\n",
    "    dat_A, tele_geo, 0, 1, 0, shift_A\n",
    ")\n",
    "meas_A = np.where(\n",
    "    (abs(ampl_A) / np.max(abs(ampl_A))) >= 0.3, meas_A - np.mean(meas_A), 0\n",
    ")\n",
    "\n",
    "rx2 = np.array([rx_x[1], 209.09, rx_z[1]])\n",
    "tele_geo = tg.tele_geo_init(rx2[0], rx2[1], rx2[2], el[1], az[1])\n",
    "rxmirror_B = af.ray_mirror_pts(rx2, tele_geo, th, ph)\n",
    "dat_B = afit.take_measurement(\n",
    "    np.zeros(77 * 5), np.zeros(77 * 5), 0, tele_geo, rxmirror_B\n",
    ")\n",
    "dat_B = np.loadtxt(dat_B)\n",
    "x_B, y_B, meas_B, ampl_B, geo = afit.analyze_holography(\n",
    "    dat_B, tele_geo, 0, 1, 0, shift_B\n",
    ")\n",
    "meas_B = np.where(\n",
    "    (abs(ampl_B) / np.max(abs(ampl_B))) >= 0.3, meas_B - np.mean(meas_B), 0\n",
    ")\n",
    "\n",
    "rx3 = np.array([rx_x[2], 209.09, rx_z[2]])\n",
    "tele_geo = tg.tele_geo_init(rx3[0], rx3[1], rx3[2], el[2], az[2])\n",
    "rxmirror_C = af.ray_mirror_pts(rx3, tele_geo, th, ph)\n",
    "dat_C = afit.take_measurement(\n",
    "    np.zeros(77 * 5), np.zeros(77 * 5), 0, tele_geo, rxmirror_C\n",
    ")\n",
    "dat_C = np.loadtxt(dat_C)\n",
    "x_C, y_C, meas_C, ampl_C, geo = afit.analyze_holography(\n",
    "    dat_C, tele_geo, 0, 1, 0, shift_C\n",
    ")\n",
    "meas_C = np.where(\n",
    "    (abs(ampl_C) / np.max(abs(ampl_C))) >= 0.3, meas_C - np.mean(meas_C), 0\n",
    ")"
   ]
  },
  {
   "cell_type": "markdown",
   "metadata": {},
   "source": [
    "## Reading in the training sets"
   ]
  },
  {
   "cell_type": "code",
   "execution_count": null,
   "metadata": {
    "jupyter": {
     "source_hidden": true
    }
   },
   "outputs": [],
   "source": [
    "adj_tot2 = []\n",
    "phases2 = []\n",
    "\n",
    "iters = 1000\n",
    "\n",
    "for ii in range(0, iters):\n",
    "\n",
    "    if np.mod(ii + 1, 20) == 0:\n",
    "        print(\"Reading in measurement \" + str(ii + 1) + \"/\" + str(iters))\n",
    "\n",
    "    rx1 = np.array([rx_x[0], 209.09, rx_z[0]])\n",
    "    tele_geo = tg.tele_geo_init(rx1[0], rx1[1], rx1[2], el[0], az[0])\n",
    "    dat_A = np.loadtxt(\n",
    "        \"/data/chesmore/sim_out/trinocular/rx-519.620-300/rx_\"\n",
    "        + str(rx1)\n",
    "        + \"_\"\n",
    "        + str(ii + 1)\n",
    "        + \".txt\"\n",
    "    )\n",
    "    x_A, y_A, phase_A, ampl_A, geo = afit.analyze_holography(\n",
    "        dat_A, tele_geo, 0, 1, 0, shift_A\n",
    "    )\n",
    "    rx2 = np.array([rx_x[1], 209.09, rx_z[1]])\n",
    "    tele_geo = tg.tele_geo_init(rx2[0], rx2[1], rx2[2], el[1], az[1])\n",
    "    dat_B = np.loadtxt(\n",
    "        \"/data/chesmore/sim_out/trinocular/rx519.620-300/rx_\"\n",
    "        + str(rx2)\n",
    "        + \"_\"\n",
    "        + str(ii + 1)\n",
    "        + \".txt\"\n",
    "    )\n",
    "    x_B, y_B, phase_B, ampl_B, geo = afit.analyze_holography(\n",
    "        dat_B, tele_geo, 0, 1, 0, shift_B\n",
    "    )\n",
    "    rx3 = np.array([rx_x[2], 209.09, rx_z[2]])\n",
    "    tele_geo = tg.tele_geo_init(rx3[0], rx3[1], rx3[2], el[2], az[2])\n",
    "    dat_C = np.loadtxt(\n",
    "        \"/data/chesmore/sim_out/trinocular/rx00600/rx_\"\n",
    "        + str(rx3)\n",
    "        + \"_\"\n",
    "        + str(ii + 1)\n",
    "        + \".txt\"\n",
    "    )\n",
    "    x_C, y_C, phase_C, ampl_C, geo = afit.analyze_holography(\n",
    "        dat_C, tele_geo, 0, 1, 0, shift_C\n",
    "    )\n",
    "\n",
    "    phase_B = np.where(\n",
    "        (abs(ampl_B) / np.max(abs(ampl_B))) >= 0.3, phase_B - np.mean(phase_B), 0\n",
    "    )\n",
    "    phase_A = np.where(\n",
    "        (abs(ampl_A) / np.max(abs(ampl_A))) >= 0.3, phase_A - np.mean(phase_A), 0\n",
    "    )\n",
    "    phase_C = np.where(\n",
    "        (abs(ampl_C) / np.max(abs(ampl_C))) >= 0.3, phase_C - np.mean(phase_C), 0\n",
    "    )\n",
    "    phase_A -= meas_A\n",
    "    phase_B -= meas_B\n",
    "    phase_C -= meas_C\n",
    "\n",
    "    adj_m1 = np.loadtxt(\n",
    "        \"/data/chesmore/sim_out/trinocular/rx00600/adj_offsets_m1_\"\n",
    "        + str(ii + 1)\n",
    "        + \".txt\"\n",
    "    )[\n",
    "        0:n_adj_m1\n",
    "    ]  # mm\n",
    "\n",
    "    adj_m2 = np.loadtxt(\n",
    "        \"/data/chesmore/sim_out/trinocular/rx00600/adj_offsets_m2_\"\n",
    "        + str(ii + 1)\n",
    "        + \".txt\"\n",
    "    )[\n",
    "        0:n_adj_m2\n",
    "    ]  # mm\n",
    "\n",
    "    phases2.append(np.concatenate((phase_A, phase_B, phase_C)))\n",
    "    adj_tot2.append(np.concatenate((adj_m1, adj_m2)))\n",
    "\n",
    "    if ii == 0:\n",
    "        f, axes = plt.subplots(1, 3, figsize=(15, 3.5), sharey=True)\n",
    "        plt.suptitle(\"Trinocular holography measurements\", fontsize=30, x=0.44, y=1.15)\n",
    "        colors = axes[0].scatter(\n",
    "            x_A, y_A, c=1e6 * phase_A / tele_geo.k, vmin=-100, vmax=100\n",
    "        )\n",
    "        axes[0].axis(\"equal\")\n",
    "        axes[1].scatter(x_B, y_B, c=1e6 * phase_B / tele_geo.k, vmin=-100, vmax=100)\n",
    "        axes[2].scatter(x_C, y_C, c=1e6 * phase_C / tele_geo.k, vmin=-100, vmax=100)\n",
    "        axes[1].axis(\"equal\")\n",
    "        axes[2].axis(\"equal\")\n",
    "        axes[0].set_xlabel(\"x [m]\")\n",
    "        axes[0].set_ylabel(\"y [m]\")\n",
    "        axes[1].set_xlabel(\"x [m]\")\n",
    "        axes[2].set_xlabel(\"x [m]\")\n",
    "        f.colorbar(colors, ax=axes, label=r\"$\\mu m$\")\n",
    "        plt.show()"
   ]
  },
  {
   "cell_type": "markdown",
   "metadata": {},
   "source": [
    "## Training and saving the ML model"
   ]
  },
  {
   "cell_type": "code",
   "execution_count": null,
   "metadata": {
    "jupyter": {
     "source_hidden": true
    }
   },
   "outputs": [],
   "source": [
    "######## Binocular Model ################\n",
    "n_samples = np.shape(phases2)[0]\n",
    "n_features = np.shape(phases2)[1]\n",
    "\n",
    "# Define training datasets\n",
    "X = phases2[0 : int(iters - 1)]\n",
    "y_output = adj_tot2[0 : int(iters - 1)]\n",
    "\n",
    "# Train the linear regression ML model\n",
    "model2 = LinearRegression()  # Define ML algorithm\n",
    "model2.fit(X, y_output)  # Train model with training datasets\n",
    "\n",
    "# Introduce instances where we do not know the answer (holography measurement)\n",
    "Xnew = np.reshape(phases2[int(iters - 1)], (1, n_features))\n",
    "# Make a prediction\n",
    "ynew = model2.predict(Xnew)\n",
    "\n",
    "# Save the model\n",
    "filename_bi2 = \"model_trinocular.sav\"\n",
    "pickle.dump(model2, open(filename_bi2, \"wb\"))"
   ]
  },
  {
   "cell_type": "code",
   "execution_count": null,
   "metadata": {
    "jupyter": {
     "source_hidden": true
    }
   },
   "outputs": [],
   "source": [
    "plt.plot(ynew[0])\n",
    "plt.plot(adj_tot2[int(iters - 1)])\n",
    "plt.xlim(0, 100)"
   ]
  }
 ],
 "metadata": {
  "kernelspec": {
   "display_name": "Python 3",
   "language": "python",
   "name": "python3"
  },
  "language_info": {
   "codemirror_mode": {
    "name": "ipython",
    "version": 3
   },
   "file_extension": ".py",
   "mimetype": "text/x-python",
   "name": "python",
   "nbconvert_exporter": "python",
   "pygments_lexer": "ipython3",
   "version": "3.8.5"
  }
 },
 "nbformat": 4,
 "nbformat_minor": 4
}

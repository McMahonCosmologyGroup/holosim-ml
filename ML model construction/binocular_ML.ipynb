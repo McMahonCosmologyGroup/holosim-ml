{
 "cells": [
  {
   "cell_type": "markdown",
   "metadata": {},
   "source": [
    "# Binocular Machine Learning Model for Holography\n",
    "### Grace E. Chesmore and Jeff McMahon - McMahonCosmologyLab\n",
    "Here we build a machine learning model for fitting two holography measurements, yielding the LAT mirror adjuster offsets. This ML model takes in two holography measurements (\"binocular\") in the form of far-field beams, then converts to aperture fields. The aperture fields and known adjuster offsets are then used as training sets for the ML model (1000 training sets in total).\n",
    "\n",
    "Prior to using the aperture fields as training sets, the aberrations are subtracted, yielding the pathlength differences due only to the adjuster offsets. Two aberration patterns are computed below. "
   ]
  },
  {
   "cell_type": "code",
   "execution_count": null,
   "metadata": {},
   "outputs": [],
   "source": [
    "import numpy as np\n",
    "import sys\n",
    "path_to_holosim_package = \"/home/chesmore/Desktop/Code/holosim_paper/package/holosim-ml\"\n",
    "sys.path.append(path_to_holosim_package)import tele_geo as tg\n",
    "import ap_field as af\n",
    "import ap_fitting as afit\n",
    "import matplotlib\n",
    "import matplotlib.pyplot as plt\n",
    "import matplotlib.font_manager as font_manager\n",
    "\n",
    "font_manager.fontManager.addfont(\n",
    "    \"/home/chesmore/.local/share/fonts/times-new-roman.ttf\"\n",
    ")\n",
    "matplotlib.rcParams[\"font.family\"] = \"Times New Roman\"\n",
    "matplotlib.rcParams[\"font.size\"] = 28\n",
    "plt.rcParams[\"image.cmap\"] = \"magma\"\n",
    "plt.style.use(\"ggplot\")\n",
    "plt.rcParams[\"axes.unicode_minus\"] = False\n",
    "#%matplotlib inline\n",
    "import optics_analyze as oa\n",
    "import sklearn\n",
    "from sklearn.linear_model import LinearRegression\n",
    "import pickle\n",
    "\n",
    "save = 0\n",
    "\n",
    "rx_x = np.array([0, 0])\n",
    "rx_z = np.array([-600 * (3 / 2), 600 * (3 / 2)])\n",
    "el = np.array([oa.el_offset(-600 * (3 / 2)), oa.el_offset(600 * (3 / 2))])\n",
    "az = np.array([0, 0])\n",
    "\n",
    "shift_A = [\"y\", oa.sh_z(rx_z[0])]\n",
    "shift_B = [\"y\", oa.sh_z(rx_z[1])]\n",
    "\n",
    "n_adj_m1 = 5 * 77\n",
    "n_adj_m2 = 5 * 69\n",
    "\n",
    "\n",
    "def tele_geo_init(x, y, z, el, az):\n",
    "    tele_geo = tg.initialize_telescope_geometry()\n",
    "    tele_geo.rx_x = x\n",
    "    tele_geo.rx_y = y\n",
    "    tele_geo.rx_z = z\n",
    "    tele_geo.el0 += el\n",
    "    tele_geo.az0 += az\n",
    "    return tele_geo\n",
    "\n",
    "\n",
    "tele_geo = tg.initialize_telescope_geometry()\n",
    "th = np.linspace(-np.pi / 2 - 0.28, -np.pi / 2 + 0.28, tele_geo.N_scan)\n",
    "ph = np.linspace(np.pi / 2 - 0.28, np.pi / 2 + 0.28, tele_geo.N_scan)\n",
    "\n",
    "### Compute aberrations ###\n",
    "\n",
    "rx1 = np.array([rx_x[0], 209.09, rx_z[0]])\n",
    "tele_geo = tg.tele_geo_init(rx1[0], rx1[1], rx1[2], el[0], az[0])\n",
    "rxmirror_A = af.ray_mirror_pts(rx1, tele_geo, th, ph)\n",
    "dat_A = afit.take_measurement(\n",
    "    np.zeros(77 * 5), np.zeros(77 * 5), 0, tele_geo, rxmirror_A\n",
    ")\n",
    "dat_A = np.loadtxt(dat_A)\n",
    "x_A, y_A, meas_A, ampl_A, geo = afit.analyze_holography(\n",
    "    dat_A, tele_geo, 0, 1, 0, shift_A\n",
    ")\n",
    "meas_A = np.where(\n",
    "    (abs(ampl_A) / np.max(abs(ampl_A))) >= 0.3, meas_A - np.mean(meas_A), 0\n",
    ")\n",
    "\n",
    "rx2 = np.array([rx_x[1], 209.09, rx_z[1]])\n",
    "tele_geo = tg.tele_geo_init(rx2[0], rx2[1], rx2[2], el[1], az[1])\n",
    "rxmirror_B = af.ray_mirror_pts(rx2, tele_geo, th, ph)\n",
    "dat_B = afit.take_measurement(\n",
    "    np.zeros(77 * 5), np.zeros(77 * 5), 0, tele_geo, rxmirror_B\n",
    ")\n",
    "dat_B = np.loadtxt(dat_B)\n",
    "x_B, y_B, meas_B, ampl_B, geo = afit.analyze_holography(\n",
    "    dat_B, tele_geo, 0, 1, 0, shift_B\n",
    ")\n",
    "meas_B = np.where(\n",
    "    (abs(ampl_B) / np.max(abs(ampl_B))) >= 0.3, meas_B - np.mean(meas_B), 0\n",
    ")"
   ]
  },
  {
   "cell_type": "markdown",
   "metadata": {},
   "source": [
    "## Reading in the training sets"
   ]
  },
  {
   "cell_type": "code",
   "execution_count": null,
   "metadata": {
    "jupyter": {
     "source_hidden": true
    }
   },
   "outputs": [],
   "source": [
    "adj_tot2 = []\n",
    "phases2 = []\n",
    "\n",
    "iters = 1000\n",
    "\n",
    "for ii in range(iters):\n",
    "\n",
    "    if np.mod(ii + 1, 25) == 0:\n",
    "        print(\"Reading in measurement \" + str(ii + 1) + \"/\" + str(iters))\n",
    "\n",
    "    rx2 = np.array([rx_x[1], 209.09, rx_z[1]])\n",
    "    tele_geo = tg.tele_geo_init(rx2[0], rx2[1], rx2[2], el[1], az[1])\n",
    "    dat_B = np.loadtxt(\n",
    "        \"/data/chesmore/sim_out/rx00600/rx_\" + str(rx2) + \"_\" + str(ii + 1) + \".txt\"\n",
    "    )\n",
    "    x_B, y_B, phase_B, ampl_B, geo = afit.analyze_holography(\n",
    "        dat_B, tele_geo, 0, 1, 0, shift_B\n",
    "    )\n",
    "\n",
    "    rx1 = np.array([rx_x[0], 209.09, rx_z[0]])\n",
    "    tele_geo = tg.tele_geo_init(rx1[0], rx1[1], rx1[2], el[0], az[0])\n",
    "    dat_A = np.loadtxt(\n",
    "        \"/data/chesmore/sim_out/rx00-600/rx_\" + str(rx1) + \"_\" + str(ii + 1) + \".txt\"\n",
    "    )\n",
    "    x_A, y_A, phase_A, ampl_A, geo = afit.analyze_holography(\n",
    "        dat_A, tele_geo, 0, 1, 0, shift_A\n",
    "    )\n",
    "\n",
    "    phase_B = np.where(\n",
    "        (abs(ampl_B) / np.max(abs(ampl_B))) >= 0.3, phase_B - np.mean(phase_B), 0\n",
    "    )\n",
    "    phase_A = np.where(\n",
    "        (abs(ampl_A) / np.max(abs(ampl_A))) >= 0.3, phase_A - np.mean(phase_A), 0\n",
    "    )\n",
    "    phase_A -= meas_A\n",
    "    phase_B -= meas_B\n",
    "\n",
    "    adj_m1 = np.loadtxt(\n",
    "        \"/data/chesmore/sim_out/rx00600/adj_offsets_m1_\" + str(ii + 1) + \".txt\"\n",
    "    )[\n",
    "        0:n_adj_m1\n",
    "    ]  # mm\n",
    "\n",
    "    adj_m2 = np.loadtxt(\n",
    "        \"/data/chesmore/sim_out/rx00600/adj_offsets_m2_\" + str(ii + 1) + \".txt\"\n",
    "    )[\n",
    "        0:n_adj_m2\n",
    "    ]  # mm\n",
    "\n",
    "    phases2.append(np.concatenate((phase_A, phase_B)))\n",
    "    adj_tot2.append(np.concatenate((adj_m1, adj_m2)))\n",
    "\n",
    "    if ii == 0:\n",
    "        f, axes = plt.subplots(1, 2, figsize=(10, 3.5), sharey=True)\n",
    "        plt.suptitle(\"Binocular holography measurements\", fontsize=30, x=0.44, y=1.15)\n",
    "        colors = axes[0].scatter(\n",
    "            x_A, y_A, c=1e6 * phase_A / tele_geo.k, vmin=-200, vmax=200\n",
    "        )\n",
    "        axes[0].axis(\"equal\")\n",
    "        axes[1].scatter(x_B, y_B, c=1e6 * phase_B / tele_geo.k, vmin=-200, vmax=200)\n",
    "        axes[1].axis(\"equal\")\n",
    "\n",
    "        axes[0].set_xlabel(\"x [m]\")\n",
    "        axes[0].set_ylabel(\"y [m]\")\n",
    "        axes[1].set_xlabel(\"x [m]\")\n",
    "        f.colorbar(colors, ax=axes, label=r\"$\\mu m$\")\n",
    "        plt.show()"
   ]
  },
  {
   "cell_type": "markdown",
   "metadata": {},
   "source": [
    "## Training and saving the ML model"
   ]
  },
  {
   "cell_type": "code",
   "execution_count": null,
   "metadata": {
    "jupyter": {
     "source_hidden": true
    }
   },
   "outputs": [],
   "source": [
    "######## Binocular Model ################\n",
    "n_samples = np.shape(phases2)[0]\n",
    "n_features = np.shape(phases2)[1]\n",
    "\n",
    "# Define training datasets\n",
    "X = phases2[0 : int(iters - 1)]\n",
    "y_output = adj_tot2[0 : int(iters - 1)]\n",
    "\n",
    "# Train the linear regression ML model\n",
    "model2 = LinearRegression()  # Define ML algorithm\n",
    "model2.fit(X, y_output)  # Train model with training datasets\n",
    "\n",
    "# Introduce instances where we do not know the answer (holography measurement)\n",
    "Xnew = np.reshape(phases2[int(iters - 1)], (1, n_features))\n",
    "# Make a prediction\n",
    "ynew = model2.predict(Xnew)\n",
    "\n",
    "# Save the model\n",
    "filename_bi2 = \"model_binocular2.sav\"\n",
    "pickle.dump(model2, open(filename_bi2, \"wb\"))"
   ]
  },
  {
   "cell_type": "code",
   "execution_count": null,
   "metadata": {
    "jupyter": {
     "source_hidden": true
    }
   },
   "outputs": [],
   "source": [
    "plt.plot(ynew[0])\n",
    "plt.plot(adj_tot2[int(iters - 1)])\n",
    "plt.xlim(0, 100)"
   ]
  }
 ],
 "metadata": {
  "kernelspec": {
   "display_name": "Python 3",
   "language": "python",
   "name": "python3"
  },
  "language_info": {
   "codemirror_mode": {
    "name": "ipython",
    "version": 3
   },
   "file_extension": ".py",
   "mimetype": "text/x-python",
   "name": "python",
   "nbconvert_exporter": "python",
   "pygments_lexer": "ipython3",
   "version": "3.8.5"
  }
 },
 "nbformat": 4,
 "nbformat_minor": 4
}
